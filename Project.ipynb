{
 "cells": [
  {
   "cell_type": "markdown",
   "metadata": {},
   "source": [
    "# Project"
   ]
  },
  {
   "cell_type": "markdown",
   "metadata": {},
   "source": [
    "## 1. Definition"
   ]
  },
  {
   "cell_type": "markdown",
   "metadata": {},
   "source": [
    "The main goal of this project will be to explore optimal ways of analysing microscopic structures using image processing to count the total number of nanoparticles in a given image. In research labs within UFABC, this process is usually done manually. The method we will use consists of defining a pipeline such as grayscaling, removing noise, segmenting the particles and labeling capable of counting the nanoparticles."
   ]
  },
  {
   "cell_type": "markdown",
   "metadata": {},
   "source": [
    "## 2. Data"
   ]
  },
  {
   "cell_type": "markdown",
   "metadata": {},
   "source": [
    "I will be using images of microscopic structures provided by UFABC's department of nanotechnology. The images used can be found on this link: http://bit.ly/2Qsdrb4."
   ]
  },
  {
   "cell_type": "markdown",
   "metadata": {},
   "source": [
    "## 3. Processing"
   ]
  },
  {
   "cell_type": "markdown",
   "metadata": {},
   "source": [
    "### 3.1 Method\n",
    "The nanoparticles contained within the microscopic images can generally be seen as white dots."
   ]
  },
  {
   "cell_type": "code",
   "execution_count": null,
   "metadata": {},
   "outputs": [],
   "source": [
    "import matplotlib.pyplot as plt\n",
    "example = plt.imread('data/cucumber/Imagem_030.tif')\n",
    "plt.figure(figsize=(8,8))\n",
    "plt.title('Microscopic image with nanoparticles')\n",
    "plt.imshow(example, 'gray')"
   ]
  },
  {
   "cell_type": "markdown",
   "metadata": {},
   "source": [
    "To reach our objective, that is count the nanoparticles, the pipeline below was defined.\n",
    "* **Gaussian blur filter**: pre-processing to normalize images\n",
    "* **Top-Hat transform**: highlight bright features\n",
    "* **Limiarization**: create a binary image with highlighted nanoparticles\n",
    "* **Label**: label particles\n",
    "* **Count**: count unique labels to get the total"
   ]
  },
  {
   "cell_type": "markdown",
   "metadata": {},
   "source": [
    "### 3.2 Main"
   ]
  },
  {
   "cell_type": "code",
   "execution_count": null,
   "metadata": {
    "scrolled": false
   },
   "outputs": [],
   "source": [
    "import cv2\n",
    "import numpy as np\n",
    "import matplotlib.pyplot as plt\n",
    "\n",
    "def count_particles(sample, blurKernelLength, tophatKernelLength, thresh):\n",
    "    blurKernel = (blurKernelLength, blurKernelLength)\n",
    "    blur = cv2.blur(sample, blurKernel)\n",
    "    tophatKernel = (tophatKernelLength, tophatKernelLength)\n",
    "    tophat = cv2.morphologyEx(blur, cv2.MORPH_TOPHAT, tophatKernel)\n",
    "    binary = cv2.threshold(tophat, thresh, 255, cv2.THRESH_BINARY)[1]\n",
    "    labels = cv2.connectedComponents(binary)[1]\n",
    "    total = len(np.unique(labels)) - 1\n",
    "    plt.figure(figsize=(20, 20))\n",
    "    plt.title('Original, Blur, Threshed Top Hat')\n",
    "    plt.imshow(np.hstack([sample, blur, binary]), 'gray')\n",
    "    return total\n",
    "\n",
    "# sample = cv2.imread('data/grape/Imagem_006.tif', 0)\n",
    "sample = cv2.imread('data/cucumber/Imagem_030.tif', 0)\n",
    "nanoparticleCount = count_particles(sample, blurKernelLength = 3, tophatKernelLength = 7, thresh = 20)\n",
    "print(nanoparticleCount)"
   ]
  }
 ],
 "metadata": {
  "kernelspec": {
   "display_name": "Python 3",
   "language": "python",
   "name": "python3"
  },
  "language_info": {
   "codemirror_mode": {
    "name": "ipython",
    "version": 3
   },
   "file_extension": ".py",
   "mimetype": "text/x-python",
   "name": "python",
   "nbconvert_exporter": "python",
   "pygments_lexer": "ipython3",
   "version": "3.7.0"
  }
 },
 "nbformat": 4,
 "nbformat_minor": 2
}
